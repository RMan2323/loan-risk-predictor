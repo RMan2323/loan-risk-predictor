{
 "cells": [
  {
   "cell_type": "code",
   "execution_count": 1,
   "id": "c769708a-018b-47d6-ad8f-a766384cf853",
   "metadata": {},
   "outputs": [],
   "source": [
    "#This is the code for SVM "
   ]
  },
  {
   "cell_type": "code",
   "execution_count": 2,
   "id": "c8a4ca38-1ebf-424b-868d-8367ae73c522",
   "metadata": {},
   "outputs": [],
   "source": [
    "# 1. Load train, validation, and test data\n",
    "import pandas as pd\n",
    "import numpy as np\n",
    "import matplotlib.pyplot as plt\n",
    "from sklearn.svm import SVC\n",
    "from sklearn.model_selection import cross_val_score, KFold\n",
    "from sklearn.metrics import confusion_matrix, accuracy_score, precision_score, recall_score, f1_score, classification_report\n",
    "#import seaborn as sns"
   ]
  },
  {
   "cell_type": "code",
   "execution_count": 3,
   "id": "21c3a980-ddb2-41aa-8eaa-02771796b9fc",
   "metadata": {},
   "outputs": [],
   "source": [
    "#First up we are doing this using Linear SVM "
   ]
  },
  {
   "cell_type": "code",
   "execution_count": 4,
   "id": "56f8b52f-df62-4389-8dba-a004c22151c7",
   "metadata": {},
   "outputs": [],
   "source": [
    "#i. Original dataset modified with One hot encoding\n",
    "# Load the datasets\n",
    "X_train = pd.read_csv('Train_Orig_OH.csv')\n",
    "X_val = pd.read_csv('Valid_Orig_OH.csv')\n",
    "X_test = pd.read_csv('Test_Orig_OH.csv')"
   ]
  },
  {
   "cell_type": "code",
   "execution_count": 5,
   "id": "530f1a0f-fc7e-48b8-85e1-8872ca9ed962",
   "metadata": {},
   "outputs": [],
   "source": [
    "# Separate features and target variable\n",
    "y_train = X_train['LoanApproved']\n",
    "X_train = X_train.drop('RiskScore', axis=1)\n",
    "X_train = X_train.drop('LoanApproved', axis=1)\n",
    "y_val = X_val['LoanApproved']\n",
    "X_val = X_val.drop('RiskScore', axis=1)\n",
    "X_val = X_val.drop('LoanApproved', axis=1)\n",
    "y_test = X_test['LoanApproved']\n",
    "X_test = X_test.drop('RiskScore', axis=1)\n",
    "X_test = X_test.drop('LoanApproved', axis=1)"
   ]
  },
  {
   "cell_type": "code",
   "execution_count": null,
   "id": "4095b672-dcf9-42af-a4ea-1ab306497f98",
   "metadata": {},
   "outputs": [],
   "source": [
    "#i found this was the best c value after trying in the power of 10 ie 0.001 0.1 1 10\n",
    "linear_svm = SVC(kernel='linear', C=0.1)\n",
    "linear_svm.fit(X_train, y_train)\n",
    "\n",
    "y_val_pred = linear_svm.predict(X_val)\n",
    "y_test_pred = linear_svm.predict(X_test)\n",
    "\n",
    "weights = linear_svm.coef_[0]\n",
    "feature_names = X_train.columns\n",
    "\n",
    "plt.figure(figsize=(12, 6))\n",
    "plt.bar(feature_names, np.abs(weights))\n",
    "plt.xticks(rotation=90)\n",
    "plt.xlabel('Features')\n",
    "plt.ylabel('Absolute Weight')\n",
    "plt.title('Feature Importance (Linear SVM)')\n",
    "plt.tight_layout()\n",
    "plt.show()\n",
    "\n",
    "def evaluate_metrics(y_true, y_pred, set_name):\n",
    "    print(f\"Performance Metrics on {set_name} Data:\")\n",
    "    print(f\"Confusion Matrix:\\n{confusion_matrix(y_true, y_pred)}\")\n",
    "    print(f\"Accuracy: {accuracy_score(y_true, y_pred)}\")\n",
    "    print(f\"Precision: {precision_score(y_true, y_pred)}\")\n",
    "    print(f\"Recall: {recall_score(y_true, y_pred)}\")\n",
    "    print(f\"F1-score: {f1_score(y_true, y_pred)}\")\n",
    "    print(f\"Classification Report:\\n{classification_report(y_true, y_pred)}\")\n",
    "    print(\"-\" * 50)\n",
    "\n",
    "evaluate_metrics(y_val, y_val_pred, \"Validation\")\n",
    "evaluate_metrics(y_test, y_test_pred, \"Test\")"
   ]
  },
  {
   "cell_type": "code",
   "execution_count": null,
   "id": "8884f56c-6f72-44d8-bf6e-d7889b5c0201",
   "metadata": {},
   "outputs": [],
   "source": []
  }
 ],
 "metadata": {
  "kernelspec": {
   "display_name": "Python 3 (ipykernel)",
   "language": "python",
   "name": "python3"
  },
  "language_info": {
   "codemirror_mode": {
    "name": "ipython",
    "version": 3
   },
   "file_extension": ".py",
   "mimetype": "text/x-python",
   "name": "python",
   "nbconvert_exporter": "python",
   "pygments_lexer": "ipython3",
   "version": "3.13.1"
  }
 },
 "nbformat": 4,
 "nbformat_minor": 5
}
